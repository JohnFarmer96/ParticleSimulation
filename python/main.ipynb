{
 "metadata": {
  "language_info": {
   "codemirror_mode": {
    "name": "ipython",
    "version": 3
   },
   "file_extension": ".py",
   "mimetype": "text/x-python",
   "name": "python",
   "nbconvert_exporter": "python",
   "pygments_lexer": "ipython3",
   "version": "3.8.2-final"
  },
  "orig_nbformat": 2,
  "kernelspec": {
   "name": "python38264bit24e03c9fb2b04c5896c603ecbe64a868",
   "display_name": "Python 3.8.2 64-bit"
  }
 },
 "nbformat": 4,
 "nbformat_minor": 2,
 "cells": [
  {
   "source": [
    "<h1><center> Anwendung höherer Programmiersprachen im Maschinenbau <br > Leistungsnachweis Jonathan Bauer </center></h1>\n",
    "<h2><center>ParticleSimulation <br> Simulation des Verhaltens von Aerosolen, umgesetzt durch Fortran und Python </center></h2>"
   ],
   "cell_type": "markdown",
   "metadata": {}
  },
  {
   "source": [
    "Importiere notwendige Python Bibliotheken"
   ],
   "cell_type": "markdown",
   "metadata": {}
  },
  {
   "cell_type": "code",
   "execution_count": 7,
   "metadata": {},
   "outputs": [],
   "source": [
    "import numpy as np\n",
    "import matplotlib.pyplot as plt \n",
    "import file_interface as fi\n",
    "import visualization as vis\n",
    "from mpl_toolkits.mplot3d import Axes3D"
   ]
  },
  {
   "source": [
    "Lade Fortran-Programmdaten in Python-Array"
   ],
   "cell_type": "markdown",
   "metadata": {}
  },
  {
   "cell_type": "code",
   "execution_count": 8,
   "metadata": {
    "tags": []
   },
   "outputs": [
    {
     "output_type": "stream",
     "name": "stdout",
     "text": "(0,)\n"
    },
    {
     "output_type": "error",
     "ename": "ValueError",
     "evalue": "not enough values to unpack (expected 3, got 1)",
     "traceback": [
      "\u001b[0;31m---------------------------------------------------------------------------\u001b[0m",
      "\u001b[0;31mValueError\u001b[0m                                Traceback (most recent call last)",
      "\u001b[0;32m&lt;ipython-input-8-d507828fefc1&gt;\u001b[0m in \u001b[0;36m&lt;module&gt;\u001b[0;34m\u001b[0m\n\u001b[1;32m      1\u001b[0m \u001b[0mdata\u001b[0m \u001b[0;34m=\u001b[0m \u001b[0mfi\u001b[0m\u001b[0;34m.\u001b[0m\u001b[0mload_all\u001b[0m\u001b[0;34m(\u001b[0m\u001b[0;34m)\u001b[0m\u001b[0;34m\u001b[0m\u001b[0;34m\u001b[0m\u001b[0m\n\u001b[1;32m      2\u001b[0m \u001b[0mprint\u001b[0m\u001b[0;34m(\u001b[0m\u001b[0mnp\u001b[0m\u001b[0;34m.\u001b[0m\u001b[0mshape\u001b[0m\u001b[0;34m(\u001b[0m\u001b[0mdata\u001b[0m\u001b[0;34m)\u001b[0m\u001b[0;34m)\u001b[0m\u001b[0;34m\u001b[0m\u001b[0;34m\u001b[0m\u001b[0m\n\u001b[0;32m----&gt; 3\u001b[0;31m \u001b[0mnum_of_timesteps\u001b[0m\u001b[0;34m,\u001b[0m \u001b[0mnum_of_particles\u001b[0m\u001b[0;34m,\u001b[0m \u001b[0mnum_of_variables\u001b[0m \u001b[0;34m=\u001b[0m \u001b[0mnp\u001b[0m\u001b[0;34m.\u001b[0m\u001b[0mshape\u001b[0m\u001b[0;34m(\u001b[0m\u001b[0mdata\u001b[0m\u001b[0;34m)\u001b[0m\u001b[0;34m\u001b[0m\u001b[0;34m\u001b[0m\u001b[0m\n\u001b[0m\u001b[1;32m      4\u001b[0m \u001b[0;34m\u001b[0m\u001b[0m\n\u001b[1;32m      5\u001b[0m \u001b[0mprint\u001b[0m\u001b[0;34m(\u001b[0m\u001b[0;34m&#39;Number of Timesteps: &#39;\u001b[0m \u001b[0;34m+\u001b[0m \u001b[0mstr\u001b[0m\u001b[0;34m(\u001b[0m\u001b[0mnum_of_timesteps\u001b[0m\u001b[0;34m)\u001b[0m\u001b[0;34m)\u001b[0m\u001b[0;34m\u001b[0m\u001b[0;34m\u001b[0m\u001b[0m\n",
      "\u001b[0;31mValueError\u001b[0m: not enough values to unpack (expected 3, got 1)"
     ]
    }
   ],
   "source": [
    "data = fi.load_all()\n",
    "print(np.shape(data))\n",
    "num_of_timesteps, num_of_particles, num_of_variables = np.shape(data)\n",
    "\n",
    "print('Number of Timesteps: ' + str(num_of_timesteps))\n",
    "print('Number of Particles: ' + str(num_of_particles))\n",
    "print('Number of Variables: ' + str(num_of_variables))"
   ]
  },
  {
   "source": [
    "<h4> Allgemeine Information zum Aufbau des vom Fortran Code gespeicherten Datenarray</h4>\n",
    "array(1) = Partikelindex <br>\n",
    "array(2) = Simulationszeit <br>\n",
    "\n",
    "array(3) = X-Positionskoordinate <br>\n",
    "array(4) = Y-Positionskoordinate <br>\n",
    "array(5) = Z-Positionskoordinate <br>\n",
    "\n",
    "array(6) = X-Geschwindigkeitskomponente <br>\n",
    "array(7) = Y-Geschwindigkeitskomponente <br>\n",
    "array(8) = Z-Geschwindigkeitskomponente <br>\n",
    "\n",
    "array(9) = Durchmesser Aerosolkern <br>\n",
    "array(10) = Durchmesser Aerosolhülle <br>\n",
    "\n",
    "array(11) = Partikeltemperatur <br>\n",
    "array(12) = Umgebungstemperatur <br>\n",
    "array(13) = Luftfeuchtigkeit <br>\n",
    "\n",
    "array(14) = X-Windgeschwindigkeitskomponente <br>\n",
    "array(15) = Y-Windgeschwindigkeitskomponente <br>\n",
    "array(16) = Z-Windgeschwindigkeitskomponente <br>\n",
    "\n",
    "array(17) = Masse des Partikelkern <br>\n",
    "array(18) = Masse der Partikelschale <br>\n",
    "\n",
    "array(19) = An Partikel angreifende Kraft (X-Richtung) <br>\n",
    "array(20) = An Partikel angreifende Kraft (Y-Richtung) <br>\n",
    "array(21) = An Partikel angreifende Kraft (Z-Richtung) <br>\n",
    "\n",
    "array(22) = Bool'sche Variable: Schale komplett verdunstet? <br>\n",
    "array(23) = Bool'sche Variable: Partikelstatus: noch in der Luft? <br>"
   ],
   "cell_type": "markdown",
   "metadata": {}
  },
  {
   "source": [
    "<h4> Visualisierung der Partikelbewegung </h4> <br>\n",
    "Position, Geschwindigkeitsvektor und Partikelstatus"
   ],
   "cell_type": "markdown",
   "metadata": {}
  },
  {
   "cell_type": "code",
   "execution_count": null,
   "metadata": {},
   "outputs": [],
   "source": [
    "spacing = int(num_of_timesteps/5)\n",
    "fig1 = vis.show_movement(data, t_start_idx=0, t_end_idx=6, t_spacing=1)\n",
    "plt.show()"
   ]
  },
  {
   "source": [
    "<h4> Visualisierung des Partikeldurchmessers </h4>"
   ],
   "cell_type": "markdown",
   "metadata": {}
  },
  {
   "cell_type": "code",
   "execution_count": null,
   "metadata": {},
   "outputs": [],
   "source": [
    "fig2 = vis.plot_single_feature(a, 9, \"Particle Shell Size\", \"Diameter [µm]\")\n",
    "plt.show()"
   ]
  },
  {
   "source": [
    "<h4> Visualisierung der angreifenden Kräfte </h4>"
   ],
   "cell_type": "markdown",
   "metadata": {}
  },
  {
   "cell_type": "code",
   "execution_count": null,
   "metadata": {},
   "outputs": [],
   "source": [
    "fig3 = vis.plot_single_feature(data, 18, 'Acting Force (x-Direction)', 'Force [µN]')\n",
    "fig4 = vis.plot_single_feature(data, 19, 'Acting Force (y-Direction)', 'Force [µN]')\n",
    "fig5 = vis.plot_single_feature(data, 20, 'Acting Force (z-Direction)', 'Force [µN]')\n",
    "plt.show()"
   ]
  }
 ]
}